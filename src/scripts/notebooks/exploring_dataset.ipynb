{
 "cells": [
  {
   "cell_type": "code",
   "execution_count": 7,
   "id": "c7585de7",
   "metadata": {},
   "outputs": [],
   "source": [
    "import pandas as pd\n",
    "import numpy as np\n",
    "import random"
   ]
  },
  {
   "cell_type": "code",
   "execution_count": 8,
   "id": "2fbe0dc7",
   "metadata": {},
   "outputs": [
    {
     "name": "stdout",
     "output_type": "stream",
     "text": [
      "<class 'pandas.core.frame.DataFrame'>\n",
      "RangeIndex: 522517 entries, 0 to 522516\n",
      "Data columns (total 28 columns):\n",
      " #   Column                      Non-Null Count   Dtype  \n",
      "---  ------                      --------------   -----  \n",
      " 0   RecipeId                    522517 non-null  int64  \n",
      " 1   Name                        522517 non-null  object \n",
      " 2   AuthorId                    522517 non-null  int64  \n",
      " 3   AuthorName                  522517 non-null  object \n",
      " 4   CookTime                    439972 non-null  object \n",
      " 5   PrepTime                    522517 non-null  object \n",
      " 6   TotalTime                   522517 non-null  object \n",
      " 7   DatePublished               522517 non-null  object \n",
      " 8   Description                 522512 non-null  object \n",
      " 9   Images                      522516 non-null  object \n",
      " 10  RecipeCategory              521766 non-null  object \n",
      " 11  Keywords                    505280 non-null  object \n",
      " 12  RecipeIngredientQuantities  522514 non-null  object \n",
      " 13  RecipeIngredientParts       522517 non-null  object \n",
      " 14  AggregatedRating            269294 non-null  float64\n",
      " 15  ReviewCount                 275028 non-null  float64\n",
      " 16  Calories                    522517 non-null  float64\n",
      " 17  FatContent                  522517 non-null  float64\n",
      " 18  SaturatedFatContent         522517 non-null  float64\n",
      " 19  CholesterolContent          522517 non-null  float64\n",
      " 20  SodiumContent               522517 non-null  float64\n",
      " 21  CarbohydrateContent         522517 non-null  float64\n",
      " 22  FiberContent                522517 non-null  float64\n",
      " 23  SugarContent                522517 non-null  float64\n",
      " 24  ProteinContent              522517 non-null  float64\n",
      " 25  RecipeServings              339606 non-null  float64\n",
      " 26  RecipeYield                 174446 non-null  object \n",
      " 27  RecipeInstructions          522517 non-null  object \n",
      "dtypes: float64(12), int64(2), object(14)\n",
      "memory usage: 111.6+ MB\n"
     ]
    }
   ],
   "source": [
    "recipes = pd.read_csv('../data/raw/recipes.csv')\n",
    "recipes.info()"
   ]
  },
  {
   "cell_type": "code",
   "execution_count": 9,
   "id": "65137002",
   "metadata": {},
   "outputs": [
    {
     "data": {
      "text/plain": [
       "RecipeId                                                                 385308\n",
       "Name                                                                Tomato Soup\n",
       "AuthorId                                                                 284266\n",
       "AuthorName                                                             WendyMaq\n",
       "CookTime                                                                  PT16M\n",
       "PrepTime                                                                   PT5M\n",
       "TotalTime                                                                 PT21M\n",
       "DatePublished                                              2009-08-13T10:54:00Z\n",
       "Description                   Make and share this Tomato Soup recipe from Fo...\n",
       "Images                                                             character(0)\n",
       "RecipeCategory                                                   Very Low Carbs\n",
       "Keywords                      c(\"Low Protein\", \"Low Cholesterol\", \"Healthy\",...\n",
       "RecipeIngredientQuantities    c(\"1\", \"1/4\", \"3\", \"1/4\", \"1\", \"1/8\", \"1\", \"1\"...\n",
       "RecipeIngredientParts         c(\"onion\", \"mushroom\", \"ham\", \"extra virgin ol...\n",
       "AggregatedRating                                                            NaN\n",
       "ReviewCount                                                                 NaN\n",
       "Calories                                                                  128.3\n",
       "FatContent                                                                  3.8\n",
       "SaturatedFatContent                                                         1.0\n",
       "CholesterolContent                                                         22.1\n",
       "SodiumContent                                                            1496.4\n",
       "CarbohydrateContent                                                        12.0\n",
       "FiberContent                                                                2.9\n",
       "SugarContent                                                                6.8\n",
       "ProteinContent                                                             12.9\n",
       "RecipeServings                                                              2.0\n",
       "RecipeYield                                                                 NaN\n",
       "RecipeInstructions            c(\"Mix the onion, mushrooms, ham, oil, garlic,...\n",
       "Name: 371832, dtype: object"
      ]
     },
     "execution_count": 9,
     "metadata": {},
     "output_type": "execute_result"
    }
   ],
   "source": [
    "# Exploring a recipe example\n",
    "recipes.iloc[random.choice(recipes.index)]"
   ]
  },
  {
   "cell_type": "code",
   "execution_count": 10,
   "id": "fb6b387f",
   "metadata": {},
   "outputs": [],
   "source": [
    "# Keeping only usefull features\n",
    "usefull_cols = [\n",
    "    'RecipeId',\n",
    "    'Name',\n",
    "    'Description',\n",
    "    'RecipeCategory',\n",
    "    'Keywords',\n",
    "    'RecipeIngredientParts'\n",
    "]\n",
    "\n",
    "recipes = recipes[usefull_cols]"
   ]
  },
  {
   "cell_type": "code",
   "execution_count": 11,
   "id": "4c826fcf",
   "metadata": {},
   "outputs": [
    {
     "data": {
      "text/plain": [
       "RecipeId                                                            445378\n",
       "Name                                                Leek &amp; Feta Quiche\n",
       "Description              Make and share this Leek &amp; Feta Quiche rec...\n",
       "RecipeCategory                                                   Breakfast\n",
       "Keywords                                    c(\"Lunch/Snacks\", \"< 60 Mins\")\n",
       "RecipeIngredientParts    c(\"phyllo dough\", \"butter\", \"leek\", \"olive oil...\n",
       "Name: 429465, dtype: object"
      ]
     },
     "execution_count": 11,
     "metadata": {},
     "output_type": "execute_result"
    }
   ],
   "source": [
    "# Exploring reduced dataframe\n",
    "recipes.iloc[random.choice(recipes.index)]"
   ]
  },
  {
   "cell_type": "code",
   "execution_count": null,
   "id": "0400166f",
   "metadata": {},
   "outputs": [],
   "source": [
    "# Data Cleaning Pipeline steps\n",
    "# STEP 1: removing escape chars\n",
    "# STEP 2: make all words to lower\n",
    "# STEP 3: transform attribute with words as a pseudo-list into an effetive list\n",
    "\n"
   ]
  }
 ],
 "metadata": {
  "kernelspec": {
   "display_name": ".smartmeal",
   "language": "python",
   "name": "python3"
  },
  "language_info": {
   "codemirror_mode": {
    "name": "ipython",
    "version": 3
   },
   "file_extension": ".py",
   "mimetype": "text/x-python",
   "name": "python",
   "nbconvert_exporter": "python",
   "pygments_lexer": "ipython3",
   "version": "3.10.12"
  }
 },
 "nbformat": 4,
 "nbformat_minor": 5
}
